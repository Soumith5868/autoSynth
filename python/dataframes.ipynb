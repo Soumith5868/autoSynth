{
 "cells": [
  {
   "cell_type": "code",
   "execution_count": 3,
   "id": "c8fc00af",
   "metadata": {},
   "outputs": [
    {
     "name": "stdout",
     "output_type": "stream",
     "text": [
      "Config loaded\n"
     ]
    }
   ],
   "source": [
    "from openai import OpenAI\n",
    "import yaml\n",
    "import os\n",
    "\n",
    "# Automatically locate the file in the current directory\n",
    "CONFIG_PATH = \"C:\\\\Users\\\\HOME\\\\github\\\\config.yaml\"\n",
    "\n",
    "with open(CONFIG_PATH, \"r\") as f:\n",
    "    config = yaml.safe_load(f)\n",
    "\n",
    "api_key = config[\"api_key\"]\n",
    "base_url = config[\"base_url\"]\n",
    "\n",
    "client = OpenAI(\n",
    "    api_key=api_key,  # Replace with your actual API key\n",
    "    base_url=base_url\n",
    ")\n",
    "print(\"Config loaded\")\n"
   ]
  },
  {
   "cell_type": "code",
   "execution_count": null,
   "id": "04b46e16",
   "metadata": {},
   "outputs": [],
   "source": [
    "from openai import OpenAI\n",
    "from pydantic import ValidationError\n",
    "import pandas as pd\n",
    "import json\n",
    "\n",
    "class SchemaAgent:\n",
    "    def __init__(self, llm_client: OpenAI):\n",
    "        self.llm = llm_client\n",
    "\n",
    "    def generate_from_prompt(self, schema_prompt: SchemaPrompt) -> SchemaObject:\n",
    "        assert schema_prompt.prompt, \"Prompt required for LLM generation\"\n",
    "        system = (\n",
    "            \"You are a data schema generator. \"\n",
    "            \"Generate a JSON schema object from the user prompt with field names, types, and constraints \"\n",
    "            \"in this format: { 'columns': [ { 'name': ..., 'type': ..., 'min': ..., 'max': ..., ... } ] }.\"\n",
    "        )\n",
    "\n",
    "        user_msg = f\"Use-case: {schema_prompt.use_case}\\nPrompt: {schema_prompt.prompt}\"\n",
    "\n",
    "        response = self.llm.chat.completions.create(\n",
    "            model=\"deepseek-chat\",\n",
    "            messages=[\n",
    "                {\"role\": \"system\", \"content\": system},\n",
    "                {\"role\": \"user\", \"content\": user_msg}\n",
    "            ]\n",
    "        )\n",
    "\n",
    "        try:\n",
    "            parsed = json.loads(response.choices[0].message.content)\n",
    "            return SchemaObject(use_case=schema_prompt.use_case, **parsed)\n",
    "        except (json.JSONDecodeError, ValidationError) as e:\n",
    "            raise ValueError(f\"LLM returned invalid schema: {e}\")\n",
    "\n",
    "    def generate_from_csv(self, schema_prompt: SchemaPrompt) -> SchemaObject:\n",
    "        assert schema_prompt.csv_path, \"CSV path required for CSV parsing\"\n",
    "        df = pd.read_csv(schema_prompt.csv_path)\n",
    "        cols = []\n",
    "\n",
    "        for col in df.columns:\n",
    "            dtype = df[col].dtype\n",
    "            col_type = \"string\"\n",
    "            if pd.api.types.is_integer_dtype(dtype):\n",
    "                col_type = \"int\"\n",
    "            elif pd.api.types.is_float_dtype(dtype):\n",
    "                col_type = \"float\"\n",
    "            elif pd.api.types.is_datetime64_any_dtype(dtype):\n",
    "                col_type = \"datetime\"\n",
    "            elif pd.api.types.is_categorical_dtype(dtype) or df[col].nunique() < 10:\n",
    "                col_type = \"categorical\"\n",
    "\n",
    "            col_schema = ColumnSchema(\n",
    "                name=col,\n",
    "                type=col_type,\n",
    "                min=float(df[col].min()) if col_type in [\"int\", \"float\"] else None,\n",
    "                max=float(df[col].max()) if col_type in [\"int\", \"float\"] else None,\n",
    "                values=list(df[col].dropna().unique()) if col_type == \"categorical\" else None,\n",
    "                format=\"%Y-%m-%d\" if col_type == \"datetime\" else None\n",
    "            )\n",
    "            cols.append(col_schema)\n",
    "\n",
    "        return SchemaObject(use_case=schema_prompt.use_case, columns=cols)\n"
   ]
  }
 ],
 "metadata": {
  "kernelspec": {
   "display_name": "Python 3",
   "language": "python",
   "name": "python3"
  },
  "language_info": {
   "codemirror_mode": {
    "name": "ipython",
    "version": 3
   },
   "file_extension": ".py",
   "mimetype": "text/x-python",
   "name": "python",
   "nbconvert_exporter": "python",
   "pygments_lexer": "ipython3",
   "version": "3.12.10"
  }
 },
 "nbformat": 4,
 "nbformat_minor": 5
}
