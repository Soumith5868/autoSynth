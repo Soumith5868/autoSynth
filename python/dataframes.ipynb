{
 "cells": [
  {
   "cell_type": "code",
   "execution_count": 17,
   "id": "c8fc00af",
   "metadata": {},
   "outputs": [
    {
     "name": "stdout",
     "output_type": "stream",
     "text": [
      "Config loaded from .env\n"
     ]
    }
   ],
   "source": [
    "from openai import OpenAI\n",
    "from dotenv import load_dotenv\n",
    "import os\n",
    "\n",
    "# Load environment variables from .env file\n",
    "load_dotenv()\n",
    "\n",
    "# Read values\n",
    "api_key = os.getenv(\"OPENAI_API_KEY\")\n",
    "base_url = os.getenv(\"OPENAI_BASE_URL\")\n",
    "\n",
    "# Initialize OpenAI-compatible client\n",
    "client = OpenAI(\n",
    "    api_key=api_key,\n",
    "    base_url=base_url\n",
    ")\n",
    "\n",
    "print(\"Config loaded from .env\")"
   ]
  },
  {
   "cell_type": "code",
   "execution_count": 18,
   "id": "6cd7e62b",
   "metadata": {},
   "outputs": [
    {
     "name": "stdout",
     "output_type": "stream",
     "text": [
      "Working directory: /app\n",
      "Files here: ['.dockerignore', '.env', '.git', '.ipynb_checkpoints', 'config.yaml', 'docker-compose.yaml', 'Dockerfile', 'python', 'README.md', 'requirements.txt']\n"
     ]
    }
   ],
   "source": [
    "import os\n",
    "print(\"Working directory:\", os.getcwd())\n",
    "print(\"Files here:\", os.listdir())"
   ]
  },
  {
   "cell_type": "code",
   "execution_count": 19,
   "id": "82bdcecf",
   "metadata": {},
   "outputs": [],
   "source": [
    "import importlib.util\n",
    "\n",
    "spec = importlib.util.spec_from_file_location(\"schema_models\", \"/app/python/schema_models.py\")\n",
    "schema_models = importlib.util.module_from_spec(spec)\n",
    "spec.loader.exec_module(schema_models)\n",
    "\n",
    "SchemaPrompt = schema_models.SchemaPrompt\n",
    "SchemaObject = schema_models.SchemaObject\n",
    "ColumnSchema = schema_models.ColumnSchema"
   ]
  },
  {
   "cell_type": "code",
   "execution_count": null,
   "id": "04b46e16",
   "metadata": {},
   "outputs": [],
   "source": [
    "import json\n",
    "import pandas as pd\n",
    "from openai import OpenAI\n",
    "from dotenv import load_dotenv\n",
    "load_dotenv()\n",
    "from pydantic import ValidationError\n",
    "from schema_models import SchemaObject, SchemaPrompt, ColumnSchema\n",
    "import os\n",
    "\n",
    "client = OpenAI(\n",
    "    api_key=os.getenv(\"OPENAI_API_KEY\"),\n",
    "    base_url=os.getenv(\"OPENAI_BASE_URL\")\n",
    ")\n",
    "\n",
    "def test_llm(client):\n",
    "    test = client.chat.completions.create(\n",
    "        model=\"deepseek-chat\",\n",
    "        messages=[{\"role\": \"user\", \"content\": \"Say hello\"}]\n",
    "    )\n",
    "    print(\"✅ Test LLM response:\", test.choices[0].message.content)\n",
    "\n",
    "\n",
    "class SchemaAgent:\n",
    "    def __init__(self, llm_client: OpenAI):\n",
    "        self.llm = llm_client\n",
    "\n",
    "    def generate_from_prompt(self, schema_prompt: SchemaPrompt) -> SchemaObject:\n",
    "        assert schema_prompt.prompt, \"Prompt is required\"\n",
    "        system_msg = (\n",
    "            \"You are a strict schema generator. Return ONLY a JSON object like:\\n\"\n",
    "            \"{\\n\"\n",
    "            \"  \\\"columns\\\": [\\n\"\n",
    "            \"    {\\\"name\\\": \\\"age\\\", \\\"type\\\": \\\"int\\\", \\\"min\\\": 0, \\\"max\\\": 120},\\n\"\n",
    "            \"    {\\\"name\\\": \\\"gender\\\", \\\"type\\\": \\\"categorical\\\", \\\"values\\\": [\\\"M\\\", \\\"F\\\"]},\\n\"\n",
    "            \"    {\\\"name\\\": \\\"admission_date\\\", \\\"type\\\": \\\"datetime\\\", \\\"format\\\": \\\"%Y-%m-%d\\\"}\\n\"\n",
    "            \"  ]\\n\"\n",
    "            \"}\"\n",
    "        )\n",
    "        user_msg = f\"Use-case: {schema_prompt.use_case}\\nPrompt: {schema_prompt.prompt}\"\n",
    "\n",
    "        response = self.llm.chat.completions.create(\n",
    "            model=\"deepseek-chat\",\n",
    "            messages=[\n",
    "            {\"role\": \"system\", \"content\": system_msg},\n",
    "            {\"role\": \"user\", \"content\": user_msg}\n",
    "            ]\n",
    "        )\n",
    "\n",
    "        text = response.choices[0].message.content\n",
    "        if not text or not text.strip():\n",
    "            raise ValueError(\"❌ Empty response from LLM. Check API key, base URL, or network.\")\n",
    "        print(\"✅ LLM Output:\\n\", text)\n",
    "        if not text or not text.strip():\n",
    "            raise ValueError(\"LLM response is empty or invalid. Check API status or quota.\")\n",
    "\n",
    "        try:\n",
    "            # Try to extract valid JSON from potentially messy output\n",
    "            json_start = text.find('{')\n",
    "            json_end = text.rfind('}') + 1\n",
    "            parsed = json.loads(text[json_start:json_end])\n",
    "            return SchemaObject(use_case=schema_prompt.use_case, **parsed)\n",
    "        except (json.JSONDecodeError, ValidationError) as e:\n",
    "            print(f\"❌ LLM output invalid: {e}\")\n",
    "            raise ValueError(f\"LLM returned malformed or invalid schema.\\nRaw output:\\n{text}\")\n",
    "\n",
    "    def generate_from_csv(self, schema_prompt: SchemaPrompt) -> SchemaObject:\n",
    "        assert schema_prompt.csv_path, \"CSV path is required\"\n",
    "        df = pd.read_csv(schema_prompt.csv_path)\n",
    "        cols = []\n",
    "\n",
    "        for col in df.columns:\n",
    "            dtype = df[col].dtype\n",
    "            col_type = \"string\"\n",
    "            if pd.api.types.is_integer_dtype(dtype):\n",
    "                col_type = \"int\"\n",
    "            elif pd.api.types.is_float_dtype(dtype):\n",
    "                col_type = \"float\"\n",
    "            elif pd.api.types.is_datetime64_any_dtype(dtype):\n",
    "                col_type = \"datetime\"\n",
    "            elif pd.api.types.is_categorical_dtype(dtype) or df[col].nunique() < 10:\n",
    "                col_type = \"categorical\"\n",
    "\n",
    "            col_schema = ColumnSchema(\n",
    "                name=col,\n",
    "                type=col_type,\n",
    "                min=float(df[col].min()) if col_type in [\"int\", \"float\"] else None,\n",
    "                max=float(df[col].max()) if col_type in [\"int\", \"float\"] else None,\n",
    "                values=list(map(str, df[col].dropna().unique())) if col_type == \"categorical\" else None,\n",
    "                format=\"%Y-%m-%d\" if col_type == \"datetime\" else None\n",
    "            )\n",
    "            cols.append(col_schema)\n",
    "\n",
    "        return SchemaObject(use_case=schema_prompt.use_case, columns=cols)\n"
   ]
  },
  {
   "cell_type": "code",
   "execution_count": 21,
   "id": "374f1906",
   "metadata": {},
   "outputs": [
    {
     "ename": "ValueError",
     "evalue": "LLM returned invalid schema: Expecting value: line 1 column 1 (char 0)",
     "output_type": "error",
     "traceback": [
      "\u001b[0;31m---------------------------------------------------------------------------\u001b[0m",
      "\u001b[0;31mJSONDecodeError\u001b[0m                           Traceback (most recent call last)",
      "Cell \u001b[0;32mIn[20], line 30\u001b[0m, in \u001b[0;36mSchemaAgent.generate_from_prompt\u001b[0;34m(self, schema_prompt)\u001b[0m\n\u001b[1;32m     29\u001b[0m \u001b[38;5;28;01mtry\u001b[39;00m:\n\u001b[0;32m---> 30\u001b[0m     parsed \u001b[38;5;241m=\u001b[39m \u001b[43mjson\u001b[49m\u001b[38;5;241;43m.\u001b[39;49m\u001b[43mloads\u001b[49m\u001b[43m(\u001b[49m\u001b[43mresponse\u001b[49m\u001b[38;5;241;43m.\u001b[39;49m\u001b[43mchoices\u001b[49m\u001b[43m[\u001b[49m\u001b[38;5;241;43m0\u001b[39;49m\u001b[43m]\u001b[49m\u001b[38;5;241;43m.\u001b[39;49m\u001b[43mmessage\u001b[49m\u001b[38;5;241;43m.\u001b[39;49m\u001b[43mcontent\u001b[49m\u001b[43m)\u001b[49m\n\u001b[1;32m     31\u001b[0m     \u001b[38;5;28;01mreturn\u001b[39;00m SchemaObject(use_case\u001b[38;5;241m=\u001b[39mschema_prompt\u001b[38;5;241m.\u001b[39muse_case, \u001b[38;5;241m*\u001b[39m\u001b[38;5;241m*\u001b[39mparsed)\n",
      "File \u001b[0;32m/usr/local/lib/python3.10/json/__init__.py:346\u001b[0m, in \u001b[0;36mloads\u001b[0;34m(s, cls, object_hook, parse_float, parse_int, parse_constant, object_pairs_hook, **kw)\u001b[0m\n\u001b[1;32m    343\u001b[0m \u001b[38;5;28;01mif\u001b[39;00m (\u001b[38;5;28mcls\u001b[39m \u001b[38;5;129;01mis\u001b[39;00m \u001b[38;5;28;01mNone\u001b[39;00m \u001b[38;5;129;01mand\u001b[39;00m object_hook \u001b[38;5;129;01mis\u001b[39;00m \u001b[38;5;28;01mNone\u001b[39;00m \u001b[38;5;129;01mand\u001b[39;00m\n\u001b[1;32m    344\u001b[0m         parse_int \u001b[38;5;129;01mis\u001b[39;00m \u001b[38;5;28;01mNone\u001b[39;00m \u001b[38;5;129;01mand\u001b[39;00m parse_float \u001b[38;5;129;01mis\u001b[39;00m \u001b[38;5;28;01mNone\u001b[39;00m \u001b[38;5;129;01mand\u001b[39;00m\n\u001b[1;32m    345\u001b[0m         parse_constant \u001b[38;5;129;01mis\u001b[39;00m \u001b[38;5;28;01mNone\u001b[39;00m \u001b[38;5;129;01mand\u001b[39;00m object_pairs_hook \u001b[38;5;129;01mis\u001b[39;00m \u001b[38;5;28;01mNone\u001b[39;00m \u001b[38;5;129;01mand\u001b[39;00m \u001b[38;5;129;01mnot\u001b[39;00m kw):\n\u001b[0;32m--> 346\u001b[0m     \u001b[38;5;28;01mreturn\u001b[39;00m \u001b[43m_default_decoder\u001b[49m\u001b[38;5;241;43m.\u001b[39;49m\u001b[43mdecode\u001b[49m\u001b[43m(\u001b[49m\u001b[43ms\u001b[49m\u001b[43m)\u001b[49m\n\u001b[1;32m    347\u001b[0m \u001b[38;5;28;01mif\u001b[39;00m \u001b[38;5;28mcls\u001b[39m \u001b[38;5;129;01mis\u001b[39;00m \u001b[38;5;28;01mNone\u001b[39;00m:\n",
      "File \u001b[0;32m/usr/local/lib/python3.10/json/decoder.py:337\u001b[0m, in \u001b[0;36mJSONDecoder.decode\u001b[0;34m(self, s, _w)\u001b[0m\n\u001b[1;32m    333\u001b[0m \u001b[38;5;250m\u001b[39m\u001b[38;5;124;03m\"\"\"Return the Python representation of ``s`` (a ``str`` instance\u001b[39;00m\n\u001b[1;32m    334\u001b[0m \u001b[38;5;124;03mcontaining a JSON document).\u001b[39;00m\n\u001b[1;32m    335\u001b[0m \n\u001b[1;32m    336\u001b[0m \u001b[38;5;124;03m\"\"\"\u001b[39;00m\n\u001b[0;32m--> 337\u001b[0m obj, end \u001b[38;5;241m=\u001b[39m \u001b[38;5;28;43mself\u001b[39;49m\u001b[38;5;241;43m.\u001b[39;49m\u001b[43mraw_decode\u001b[49m\u001b[43m(\u001b[49m\u001b[43ms\u001b[49m\u001b[43m,\u001b[49m\u001b[43m \u001b[49m\u001b[43midx\u001b[49m\u001b[38;5;241;43m=\u001b[39;49m\u001b[43m_w\u001b[49m\u001b[43m(\u001b[49m\u001b[43ms\u001b[49m\u001b[43m,\u001b[49m\u001b[43m \u001b[49m\u001b[38;5;241;43m0\u001b[39;49m\u001b[43m)\u001b[49m\u001b[38;5;241;43m.\u001b[39;49m\u001b[43mend\u001b[49m\u001b[43m(\u001b[49m\u001b[43m)\u001b[49m\u001b[43m)\u001b[49m\n\u001b[1;32m    338\u001b[0m end \u001b[38;5;241m=\u001b[39m _w(s, end)\u001b[38;5;241m.\u001b[39mend()\n",
      "File \u001b[0;32m/usr/local/lib/python3.10/json/decoder.py:355\u001b[0m, in \u001b[0;36mJSONDecoder.raw_decode\u001b[0;34m(self, s, idx)\u001b[0m\n\u001b[1;32m    354\u001b[0m \u001b[38;5;28;01mexcept\u001b[39;00m \u001b[38;5;167;01mStopIteration\u001b[39;00m \u001b[38;5;28;01mas\u001b[39;00m err:\n\u001b[0;32m--> 355\u001b[0m     \u001b[38;5;28;01mraise\u001b[39;00m JSONDecodeError(\u001b[38;5;124m\"\u001b[39m\u001b[38;5;124mExpecting value\u001b[39m\u001b[38;5;124m\"\u001b[39m, s, err\u001b[38;5;241m.\u001b[39mvalue) \u001b[38;5;28;01mfrom\u001b[39;00m\u001b[38;5;250m \u001b[39m\u001b[38;5;28;01mNone\u001b[39;00m\n\u001b[1;32m    356\u001b[0m \u001b[38;5;28;01mreturn\u001b[39;00m obj, end\n",
      "\u001b[0;31mJSONDecodeError\u001b[0m: Expecting value: line 1 column 1 (char 0)",
      "\nDuring handling of the above exception, another exception occurred:\n",
      "\u001b[0;31mValueError\u001b[0m                                Traceback (most recent call last)",
      "Cell \u001b[0;32mIn[21], line 8\u001b[0m\n\u001b[1;32m      1\u001b[0m schema_prompt \u001b[38;5;241m=\u001b[39m SchemaPrompt(\n\u001b[1;32m      2\u001b[0m     use_case\u001b[38;5;241m=\u001b[39m\u001b[38;5;124m\"\u001b[39m\u001b[38;5;124mEmployee record generation\u001b[39m\u001b[38;5;124m\"\u001b[39m,\n\u001b[1;32m      3\u001b[0m     prompt\u001b[38;5;241m=\u001b[39m\u001b[38;5;124m\"\u001b[39m\u001b[38;5;124mGenerate a schema for employee records including age (18-65), gender (M/F), role, and join date\u001b[39m\u001b[38;5;124m\"\u001b[39m\n\u001b[1;32m      4\u001b[0m )\n\u001b[1;32m      6\u001b[0m schema_agent \u001b[38;5;241m=\u001b[39m SchemaAgent(llm_client\u001b[38;5;241m=\u001b[39mclient)  \u001b[38;5;66;03m# `client` = your DeepSeek OpenAI-compatible instance\u001b[39;00m\n\u001b[0;32m----> 8\u001b[0m schema \u001b[38;5;241m=\u001b[39m \u001b[43mschema_agent\u001b[49m\u001b[38;5;241;43m.\u001b[39;49m\u001b[43mgenerate_from_prompt\u001b[49m\u001b[43m(\u001b[49m\u001b[43mschema_prompt\u001b[49m\u001b[43m)\u001b[49m\n\u001b[1;32m     10\u001b[0m \u001b[38;5;28mprint\u001b[39m(schema)\n",
      "Cell \u001b[0;32mIn[20], line 33\u001b[0m, in \u001b[0;36mSchemaAgent.generate_from_prompt\u001b[0;34m(self, schema_prompt)\u001b[0m\n\u001b[1;32m     31\u001b[0m     \u001b[38;5;28;01mreturn\u001b[39;00m SchemaObject(use_case\u001b[38;5;241m=\u001b[39mschema_prompt\u001b[38;5;241m.\u001b[39muse_case, \u001b[38;5;241m*\u001b[39m\u001b[38;5;241m*\u001b[39mparsed)\n\u001b[1;32m     32\u001b[0m \u001b[38;5;28;01mexcept\u001b[39;00m (json\u001b[38;5;241m.\u001b[39mJSONDecodeError, ValidationError) \u001b[38;5;28;01mas\u001b[39;00m e:\n\u001b[0;32m---> 33\u001b[0m     \u001b[38;5;28;01mraise\u001b[39;00m \u001b[38;5;167;01mValueError\u001b[39;00m(\u001b[38;5;124mf\u001b[39m\u001b[38;5;124m\"\u001b[39m\u001b[38;5;124mLLM returned invalid schema: \u001b[39m\u001b[38;5;132;01m{\u001b[39;00me\u001b[38;5;132;01m}\u001b[39;00m\u001b[38;5;124m\"\u001b[39m)\n",
      "\u001b[0;31mValueError\u001b[0m: LLM returned invalid schema: Expecting value: line 1 column 1 (char 0)"
     ]
    }
   ],
   "source": [
    "schema_prompt = SchemaPrompt(\n",
    "    use_case=\"Employee record generation\",\n",
    "    prompt=\"Generate a schema for employee records including age (18-65), gender (M/F), role, and join date\"\n",
    ")\n",
    "\n",
    "schema_agent = SchemaAgent(llm_client=client)  # `client` = your DeepSeek OpenAI-compatible instance\n",
    "\n",
    "schema = schema_agent.generate_from_prompt(schema_prompt)\n",
    "\n",
    "print(schema)"
   ]
  },
  {
   "cell_type": "code",
   "execution_count": 15,
   "id": "e8af90c7",
   "metadata": {},
   "outputs": [
    {
     "name": "stdout",
     "output_type": "stream",
     "text": [
      "Test response raw content: Hello! 😊 How can I assist you today?\n"
     ]
    }
   ],
   "source": [
    "test_prompt = {\n",
    "    \"model\": \"deepseek-chat\",\n",
    "    \"messages\": [\n",
    "        {\"role\": \"system\", \"content\": \"You are a helpful assistant.\"},\n",
    "        {\"role\": \"user\", \"content\": \"Say hello.\"}\n",
    "    ]\n",
    "}\n",
    "\n",
    "test_response = client.chat.completions.create(**test_prompt)\n",
    "\n",
    "print(\"Test response raw content:\", test_response.choices[0].message.content)"
   ]
  },
  {
   "cell_type": "code",
   "execution_count": null,
   "id": "39f1b1cc",
   "metadata": {},
   "outputs": [],
   "source": []
  }
 ],
 "metadata": {
  "kernelspec": {
   "display_name": "Python 3 (ipykernel)",
   "language": "python",
   "name": "python3"
  },
  "language_info": {
   "codemirror_mode": {
    "name": "ipython",
    "version": 3
   },
   "file_extension": ".py",
   "mimetype": "text/x-python",
   "name": "python",
   "nbconvert_exporter": "python",
   "pygments_lexer": "ipython3",
   "version": "3.10.18"
  }
 },
 "nbformat": 4,
 "nbformat_minor": 5
}
